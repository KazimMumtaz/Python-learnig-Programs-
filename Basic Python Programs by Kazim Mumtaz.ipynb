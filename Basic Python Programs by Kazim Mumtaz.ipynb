{
 "cells": [
  {
   "cell_type": "code",
   "execution_count": 1,
   "id": "236470df-e7fe-4a14-9a42-177fafd2aa19",
   "metadata": {},
   "outputs": [
    {
     "name": "stdin",
     "output_type": "stream",
     "text": [
      "Enter the first number for addition: 68\n",
      "Enter the second number for addition: 4\n"
     ]
    },
    {
     "name": "stdout",
     "output_type": "stream",
     "text": [
      "sum: 68.0+4.0=72.0\n"
     ]
    }
   ],
   "source": [
    "#write a python programe to do arithmetic addition and division;\n",
    "#Addition\n",
    "num1 = float(input(\"Enter the first number for addition:\"))\n",
    "num2 = float(input(\"Enter the second number for addition:\"))\n",
    "sum_result = num1+num2                                           \n",
    "print(f\"sum: {num1}+{num2}={sum_result}\")                                          "
   ]
  },
  {
   "cell_type": "code",
   "execution_count": null,
   "id": "411378b7-8bb6-4e4b-9560-40359dd220fa",
   "metadata": {},
   "outputs": [],
   "source": [
    "#Division\n",
    "num1= float(input(\"Enter the first number for division:\"))\n",
    "num2= float(input(\"Enter the second nuber for division:\"))\n",
    "if num2==0:\n",
    "     print(\"Error: Division by zero is equal\\n to infinty which have't any physical significance:\")\n",
    "else:\n",
    "     div_result=num1/num2\n",
    " # ''Here i'm using the  \\n for split the print function''\n",
    "print(f\"Division: {num1}/{num2}\\n= {div_result}\")"
   ]
  },
  {
   "cell_type": "code",
   "execution_count": 4,
   "id": "f23061ab-45e2-4b83-8d67-302c21ce3843",
   "metadata": {},
   "outputs": [
    {
     "name": "stdin",
     "output_type": "stream",
     "text": [
      "Enter the value of base for required triangle: 3\n",
      "Enter the value of height for required triangle: 5\n"
     ]
    },
    {
     "name": "stdout",
     "output_type": "stream",
     "text": [
      "the area of triangle: 7.5\n"
     ]
    }
   ],
   "source": [
    "('write a python program to show the area of triangle:')\n",
    "#Enter the Base and Height of the triangle the user \n",
    "base = float(input(\"Enter the value of base for required triangle:\"))\n",
    "height= float(input(\"Enter the value of height for required triangle:\"))\n",
    "#Calculate the area of triangle\n",
    "area = 0.5*base*height\n",
    "#Display the result\n",
    "print(f\"the area of triangle: {area}\")\n",
    "\n"
   ]
  },
  {
   "cell_type": "code",
   "execution_count": 7,
   "id": "89a14483-93d5-431d-a5dc-cf57c36e8cd8",
   "metadata": {},
   "outputs": [
    {
     "name": "stdin",
     "output_type": "stream",
     "text": [
      "Enter the first digit: 6\n",
      "Enter the second digit: 6\n"
     ]
    },
    {
     "name": "stdout",
     "output_type": "stream",
     "text": [
      "Original values: a=6.0,b=6.0\n",
      "Swapped values: a=6.0,b=6.0\n"
     ]
    }
   ],
   "source": [
    "# input the Python program for swap the variable\n",
    "a=float(input(\"Enter the first digit:\"))\n",
    "b=float(input(\"Enter the second digit:\"))\n",
    "#Display the original value\n",
    "print(f\"Original values: a={a},b={b}\")\n",
    "#swap the values using a temporary variable\n",
    "temp=a\n",
    "a=b\n",
    "b=temp\n",
    "#display the swapped values\n",
    "print(f\"Swapped values: a={a},b={b}\")\n"
   ]
  },
  {
   "cell_type": "code",
   "execution_count": 11,
   "id": "0a720689-a40c-40cf-b549-0f50343c9604",
   "metadata": {},
   "outputs": [
    {
     "name": "stdout",
     "output_type": "stream",
     "text": [
      "Random number:11979\n"
     ]
    }
   ],
   "source": [
    "('write a python Program to Generate random numbers')\n",
    "import random\n",
    "print(f\"Random number:{random.randint(1,100777)}\")"
   ]
  },
  {
   "cell_type": "code",
   "execution_count": 12,
   "id": "05b58816-d421-4f9c-be44-0b1c08ff2c72",
   "metadata": {},
   "outputs": [
    {
     "name": "stdin",
     "output_type": "stream",
     "text": [
      "enter the distance in Kilomiters 5\n"
     ]
    },
    {
     "name": "stdout",
     "output_type": "stream",
     "text": [
      " kilometers is equal to 3.106855miles\n"
     ]
    }
   ],
   "source": [
    "#write a python program to convert Kilometers to miles.\n",
    "Kilometers = float(input(\"enter the distance in Kilomiters\"))\n",
    "#Conversion factor:1 kilometer = 0.621371 miles\n",
    "conversion_factor= 0.621371\n",
    "miles = Kilometers * conversion_factor\n",
    "print(f\" kilometers is equal to {miles}miles\")"
   ]
  },
  {
   "cell_type": "code",
   "execution_count": 5,
   "id": "e039bfde-e6c7-496a-8a46-8301f89c997c",
   "metadata": {},
   "outputs": [
    {
     "name": "stdin",
     "output_type": "stream",
     "text": [
      "Enter the temperature in celsius : 3\n"
     ]
    },
    {
     "name": "stdout",
     "output_type": "stream",
     "text": [
      "temperature in kelven: 276.0\n",
      "temperature in farhenhiet: 37.4\n"
     ]
    }
   ],
   "source": [
    "#Write a python program to convert celsius to Kelven Farhenheit scale\n",
    "celsius=float(input(\"Enter the temperature in celsius :\"))\n",
    "#Conversion farmula: Kelven = celcsius+ 273\n",
    "kelven = celsius+273\n",
    "print(f\"temperature in kelven: {kelven}\")\n",
    "#Conversion formula2: farhenheit=(celsius*9/5)+32 \n",
    "farhenheit=(celsius*9/5)+32\n",
    "print(f\"temperature in farhenhiet: {farhenheit}\")\n"
   ]
  },
  {
   "cell_type": "code",
   "execution_count": 3,
   "id": "28ad47ac-d471-44b4-874e-98075ffeaf1a",
   "metadata": {},
   "outputs": [
    {
     "name": "stdin",
     "output_type": "stream",
     "text": [
      "Enter distance in kilomiter: 43\n",
      "enter the amount of force in Newton: 2\n"
     ]
    },
    {
     "name": "stdout",
     "output_type": "stream",
     "text": [
      "Work is not possible!:\n"
     ]
    }
   ],
   "source": [
    "#a 5 N forcce acting on a car and it mover 4KM in the direction of force. Calculate the work done of car?\n",
    "distance = float(input(\"Enter distance in kilomiter:\"))\n",
    "force = float(input(\"enter the amount of force in Newton:\"))\n",
    "#Conversion fector: Work= force*distance\n",
    "Workjoule = force*distance\n",
    "if force<3:\n",
    "  print(f\"Work is not possible!:\")\n",
    "else:\n",
    "      print(f\"Work in joule is equal to:{Work}\")"
   ]
  },
  {
   "cell_type": "code",
   "execution_count": 22,
   "id": "96d7034c-bdb6-424a-b26e-c153b3be2643",
   "metadata": {},
   "outputs": [
    {
     "name": "stdout",
     "output_type": "stream",
     "text": [
      "orange\n",
      " banana\n",
      "chilli\n"
     ]
    }
   ],
   "source": [
    "x,y,z= \"orange\",\" banana\", \"chilli\"\n",
    "print(x)\n",
    "print(y)\n",
    "print(z)\n"
   ]
  },
  {
   "cell_type": "code",
   "execution_count": 9,
   "id": "a019ecea-8726-41b0-a6da-3e2b22446c81",
   "metadata": {},
   "outputs": [
    {
     "name": "stdin",
     "output_type": "stream",
     "text": [
      "enter value of years: 2025\n",
      "enter the value of months: 3\n"
     ]
    },
    {
     "name": "stdout",
     "output_type": "stream",
     "text": [
      "     March 2025\n",
      "Mo Tu We Th Fr Sa Su\n",
      "                1  2\n",
      " 3  4  5  6  7  8  9\n",
      "10 11 12 13 14 15 16\n",
      "17 18 19 20 21 22 23\n",
      "24 25 26 27 28 29 30\n",
      "31\n",
      "\n"
     ]
    }
   ],
   "source": [
    "import calendar\n",
    "year = int(input(\"enter value of years:\"))\n",
    "month = int(input(\"enter the value of months:\"))\n",
    "cal = calendar.month(year,month)\n",
    "print(cal)"
   ]
  },
  {
   "cell_type": "code",
   "execution_count": 18,
   "id": "b1f9011c-b257-4750-a9b7-3707b556c925",
   "metadata": {},
   "outputs": [
    {
     "name": "stdin",
     "output_type": "stream",
     "text": [
      "Enter the value of first independent variable a: 56546\n",
      "Enter the value of second independent variable b: 575\n",
      "Enter the value of third independent variable c: 5678\n"
     ]
    },
    {
     "name": "stdout",
     "output_type": "stream",
     "text": [
      "the disc is:-1283942127.0\n",
      "root1: 16256975.0+1013082042.9404318i\n",
      "root2: 16256975.0-1013082042.9404318i\n"
     ]
    }
   ],
   "source": [
    "'''Write a python program to solve Quardetric Equations'''\n",
    "import math\n",
    "#Standard form of Quardetric equation\n",
    "\"a*x^2 +bx+c=0\"\n",
    "'SOLUTION 1;'\n",
    "#where a,b and c real numbers; a=! 0:\n",
    "#The solution of Quarderic equation is\n",
    "a=float(input(\"Enter the value of first independent variable a:\"))\n",
    "b=float(input(\"Enter the value of second independent variable b:\"))\n",
    "c=float(input(\"Enter the value of third independent variable c:\"))\n",
    "'''Our aim to find the Disc of QC'''\n",
    "#Formula for disc is; disc=b**2 -4*a*c\n",
    "disc=b**2- 4*a*c\n",
    "print(f\"the disc is:{disc}\")\n",
    "#Check if discriminant is Positive,Negative or Zero\n",
    "if disc>0:\n",
    "    '''It give two real and distant root'''\n",
    "    root1 = (-b+math.sqrt(disc))/2*a\n",
    "    root2 = (-b-math.sqrt(disc))/2*a\n",
    "    print(f\"Root 1: {root1}\")\n",
    "    print(f\"root 2: {root2}\")\n",
    "elif disc==0:\n",
    "    '''one real roots is Positive'''\n",
    "    root= b/2*a\n",
    "    print(f\"root:{root}\")\n",
    "else:\n",
    "#Complex Roots;    \n",
    "    real_part=b/2*a\n",
    "complex_part= math.sqrt(abs(disc))/2*a\n",
    "print(f\"root1: {real_part}+{complex_part}i\")\n",
    "print(f\"root2: {real_part}-{complex_part}i\")"
   ]
  },
  {
   "cell_type": "markdown",
   "id": "028ee169-2c66-4030-8244-0f97ecd20b7e",
   "metadata": {},
   "source": [
    "#Write a program for swaping three variables;"
   ]
  },
  {
   "cell_type": "code",
   "execution_count": 32,
   "id": "eba94eeb-ea48-42ef-95ea-bc67123ccb12",
   "metadata": {},
   "outputs": [
    {
     "name": "stdout",
     "output_type": "stream",
     "text": [
      "after swapping\n",
      "a= 9\n",
      "b= 1\n",
      "c= 1\n"
     ]
    }
   ],
   "source": [
    "#write a python program for swaping three variables\n",
    "a=9\n",
    "b=0\n",
    "c=1\n",
    "a,b=a,c\n",
    "print(f\"after swapping\")\n",
    "print(\"a=\",a)\n",
    "print(\"b=\",b)\n",
    "print(\"c=\",c)"
   ]
  },
  {
   "cell_type": "code",
   "execution_count": 40,
   "id": "4b965d2e-13de-4208-8421-40c50d25b480",
   "metadata": {},
   "outputs": [
    {
     "name": "stdin",
     "output_type": "stream",
     "text": [
      "enter a number 3\n"
     ]
    },
    {
     "name": "stdout",
     "output_type": "stream",
     "text": [
      "num is Positive\n"
     ]
    }
   ],
   "source": [
    "#Write a Pyhon  Program to check if a number a Positive,Negative or zero\n",
    "num= float(input(\"enter a number\"))\n",
    "if num<0:\n",
    "           print(f\"num is Negative\")\n",
    "elif num==0:\n",
    "         print(f\"number is zero\")\n",
    "else:\n",
    "     print(f\"num is Positive\")"
   ]
  },
  {
   "cell_type": "code",
   "execution_count": 43,
   "id": "14114da8-ef9a-453d-a374-13907161b6f5",
   "metadata": {},
   "outputs": [
    {
     "name": "stdin",
     "output_type": "stream",
     "text": [
      "enter a number 0\n"
     ]
    },
    {
     "name": "stdout",
     "output_type": "stream",
     "text": [
      "numn is even\n"
     ]
    }
   ],
   "source": [
    "#Write a Pyhon  Program to check if a number a Positive,Negative or zero\n",
    "num= float(input(\"enter a number\"))\n",
    "if num%2==0:\n",
    "    print(f\"numn is even\")\n",
    "else:\n",
    "    print(f\"num is odd\")"
   ]
  },
  {
   "cell_type": "code",
   "execution_count": 2,
   "id": "13dd4b17-62f7-40c9-938e-1f8551cc0e6d",
   "metadata": {},
   "outputs": [
    {
     "name": "stdin",
     "output_type": "stream",
     "text": [
      "enter a some random numbers: 4\n"
     ]
    },
    {
     "name": "stdout",
     "output_type": "stream",
     "text": [
      "4:num is prime\n"
     ]
    }
   ],
   "source": [
    "'''Write a Python Program to Check Prime Number.'''\n",
    "#Prime Numbers:\n",
    "'''A prime number is a whole number that cannot be evenly divided by any other numberexcept for 1 and itself. For example, 2, 3, 5, 7, 11, and 13 are prime numbers because \n",
    "theycannot be divided by any other positive integer except for 1 and their own value.'''\n",
    "num=int(input(\"enter a some random numbers:\"))\n",
    "# Define a flag variable;\n",
    "flag = False\n",
    "if num==1:\n",
    "          print(f\"num is not Prime number:{num}\")\n",
    "elif num>2:\n",
    "#check for factor;\n",
    "      for i in range (12121226168763868638678627861273726126683626138612863812,num):\n",
    "        if (num%i)==0:\n",
    "            flag = True #if factor is found, the flag is set to be True;\n",
    "            #Break the statement;\n",
    "            break\n",
    "          #check flag is true;\n",
    "if flag:\n",
    "    print(f\"the num is't prime:{num}\")\n",
    "else:\n",
    "    print(f\"{num}:num is prime\")\n",
    "    \n",
    "\n"
   ]
  },
  {
   "cell_type": "code",
   "execution_count": 12,
   "id": "56ea3673-2bf4-4fb3-976c-97de8b2a2074",
   "metadata": {},
   "outputs": [
    {
     "name": "stdout",
     "output_type": "stream",
     "text": [
      "Prime numbers between 0 and 10 limits are:\n",
      "10\n"
     ]
    }
   ],
   "source": [
    "#Write a Python Program to Print all Prime Numbers in an Interval of 1-10.\n",
    "lower= 0\n",
    "upper= 10\n",
    "print(f\"Prime numbers between\", lower ,\"and\" ,upper ,\"limits are:\")\n",
    "for num in range(lower,upper+1):\n",
    "    if num>1:\n",
    "        for i in range(1,num):\n",
    "    #All the numbers are greater than 1\n",
    "            if (num%i)==0:\n",
    "               break\n",
    "else:\n",
    "        print(num)"
   ]
  },
  {
   "cell_type": "code",
   "execution_count": null,
   "id": "2d010f45-f29a-4af5-97f0-cfbaffcd7f5d",
   "metadata": {},
   "outputs": [],
   "source": [
    "#Write a python Program to find the factorial of digits;\n",
    "unm=float(input(\"input a digit:\")\n",
    "          if num<0:\n",
    "          print(f\"fictorial does't exist:\")\n",
    "          elif num==0:\n",
    "print(f\"fictorial of 0 is 1:\")\n",
    "else:\n",
    "    for i in range(1,num+1)\n",
    "    fictorial=fictorial*i\n",
    "    print(f\"the fictorial of {num} is {factorial}\")"
   ]
  },
  {
   "cell_type": "code",
   "execution_count": null,
   "id": "c2a6505b-4f14-4103-9424-8f1671d3084d",
   "metadata": {},
   "outputs": [],
   "source": [
    "#Write a Python Program to Print the Fibonacci sequence.\n",
    "#Fibonacci sequence:\n",
    "'''The Fibonacci sequence is a series of numbers where each number is the sum of the twopreceding ones, typically starting with 0 and 1. So, the sequence begins with 0 and 1, andthe next number is obtained by adding the previous two numbers. This pattern continuesindefinitely, generating a sequence that looks like this:\n",
    "0, 1, 1, 2, 3, 5, 8, 13, 21, 34, 55, 89, 144, and so on.\n",
    "Mathematically, the Fibonacci sequence can be defined using the following recurrencerelation:'''\n",
    "#Recurrence Relation; 𝐹(0) = 0 𝐹(1) = 1 𝐹(𝑛) = 𝐹(𝑛 − 1) + 𝐹(𝑛 − 2)𝑓𝑜𝑟𝑛 > 1;\n",
    "nterms= int(input(\"How many terms are required:\"))\n",
    "           #the first two terms are:\n",
    "n1,n2= 0,1\n",
    "count=0\n",
    "#Check the number of terms is valid;\n",
    "if nterms<=0:\n",
    "    print(\"please enter the positive integer:\")\n",
    "    #if there is only one therm, return n1;\n",
    "elif nterms==1:\n",
    "    print(\"Fibocci sequence is upto\",nterns,\":\")\n",
    "    print(n1)\n",
    "    #Generate Fibocci sequence\n",
    "else:\n",
    "    print(\"Fibocci secquence:\")\n",
    "    while count<nterms:\n",
    "         print(n1)\n",
    "    nth=n1+n2\n",
    "    #Update values\n",
    "    n1=n2\n",
    "    n2=nth\n",
    "    count+=1\n",
    "\n",
    "              "
   ]
  },
  {
   "cell_type": "code",
   "execution_count": null,
   "id": "28c6001c-8ff6-4c92-a369-e54770eebaeb",
   "metadata": {},
   "outputs": [],
   "source": [
    "#Write a python program to find Armstrong numbers\n",
    "# It is a number thats is num of two its own digits, each rise to the power equal to the number of digits in the number.\n",
    "\"For example let's consider a number 153\"\n",
    "#it has three numbers 1,5 and 3:\n",
    "# if (1^3 + 5^3 +3^3 = 1+125+27) which is also equal to 153;\n",
    "#So 153 is an Armstrong Number because the sum of square of all digits is equal to 153;\n",
    "num=int(input(\"enter a number\"))\n",
    "# check the length of number;\n",
    "num_str=str(num)\n",
    "num_digits =len(num_str)\n",
    "#initialize the powers \n",
    "sum_of_powers = 0\n",
    "temp_num = num\n",
    "#calculate the sum of digits that rise to the power of num_digits;\n",
    "while temp_num>0:\n",
    "    digit=temp_num%10\n",
    "sum_of_powers+=digit**num_digits\n",
    "temp_num//=10\n",
    "# Check iif it's an armstrong number;\n",
    "if sum_of_powers==num:\n",
    "    print(f\"{num} the num is an Armstrong.;\")\n",
    "else:\n",
    "    print(f\"{num} the num is not an Armstrong.;\")\n",
    "    print(num[2:3])\n"
   ]
  },
  {
   "cell_type": "code",
   "execution_count": 5,
   "id": "ee9c70a6-8e40-4ec8-bb49-3ed17e09b6c2",
   "metadata": {},
   "outputs": [
    {
     "name": "stdin",
     "output_type": "stream",
     "text": [
      "enter the value of lower interval 10\n",
      "enter the value of upper interval 1000\n"
     ]
    }
   ],
   "source": [
    "#input the upper and lower interval \n",
    "lower=int(input(\"enter the value of lower interval\"))\n",
    "upper=int(input(\"enter the value of upper interval\"))\n",
    "for num in range( lower,upper+1):\n",
    "#Itrate through the num in range:\n",
    "   order=len(str(num))\n",
    "#find the number of digits in 'num'\n",
    "temp_num=num\n",
    "sum=0\n",
    "while temp_num>0:\n",
    "    digit=temp_num%10\n",
    "    sum+=digit**order\n",
    "    temp_num//=10\n",
    "    #Check num \"num\" is an Armstrong\n",
    "if num==sum:\n",
    "    print(num)\n"
   ]
  },
  {
   "cell_type": "code",
   "execution_count": 16,
   "id": "ef5b19bb-2a93-46cb-ad2f-4007a4c7ad75",
   "metadata": {},
   "outputs": [
    {
     "name": "stdin",
     "output_type": "stream",
     "text": [
      "Enter the limit of natural numers: 10\n"
     ]
    },
    {
     "name": "stdout",
     "output_type": "stream",
     "text": [
      "The sum of natural numbers upto : 10 is: 1\n",
      "The sum of natural numbers upto : 10 is: 3\n",
      "The sum of natural numbers upto : 10 is: 6\n",
      "The sum of natural numbers upto : 10 is: 10\n",
      "The sum of natural numbers upto : 10 is: 15\n",
      "The sum of natural numbers upto : 10 is: 21\n",
      "The sum of natural numbers upto : 10 is: 28\n",
      "The sum of natural numbers upto : 10 is: 36\n",
      "The sum of natural numbers upto : 10 is: 45\n",
      "The sum of natural numbers upto : 10 is: 55\n"
     ]
    }
   ],
   "source": [
    "#Write a python program to find the sum of set of Natural Numbers\n",
    "#NEatural Numbers; are the set of positive integers that are used to count objects. they are the positive numbers sters from 1 and go to infinity.\n",
    "#whole numbers greater than 0. Mathematically they are denoted by notation'N' and epressed as\n",
    "''' N=1,2,3,4,5,....'''\n",
    "limit = int(input(\"Enter the limit of natural numers:\"))\n",
    "#Initialize the sum\n",
    "sum=0\n",
    "# Use for loop to calculate the sum of natural Numbers\n",
    "for i in range (1, limit+1):\n",
    "    sum+=i\n",
    "    '''Print the sum'''\n",
    "    print(\"The sum of natural numbers upto :\",limit,\"is:\",sum)\n"
   ]
  },
  {
   "cell_type": "code",
   "execution_count": 8,
   "id": "61488750-55de-4161-bd3d-694075d5a683",
   "metadata": {},
   "outputs": [],
   "source": [
    "#Write a Python Program to Find LCM.\n",
    "'''LCM, or Least Common Multiple, is the smallest multiple that is exactly divisible by two ormore numbers.\n",
    "Formula:'''\n",
    "#LCM(𝑎, 𝑏) =|𝑎 ⋅ 𝑏|/GCD(𝑎, 𝑏)\n",
    "'''For more than two numbers, you can find the LCM step by step, taking the LCM of pairs ofnumbers at a time until you reach the\n",
    "last pair.'''\n",
    "def compute_lcm(x,y):\n",
    "#find the greater number;\n",
    "  if x>y:\n",
    "    greater =x\n",
    "  else:\n",
    "    greater =y"
   ]
  },
  {
   "cell_type": "code",
   "execution_count": 10,
   "id": "18634dc7-e88a-4fe9-996e-8621cbf7beee",
   "metadata": {},
   "outputs": [
    {
     "name": "stdout",
     "output_type": "stream",
     "text": [
      "-30\n"
     ]
    }
   ],
   "source": [
    "from random import randrange \n",
    "heads = tails = 0\n",
    "for i in range(100):\n",
    "    if randrange(4)==randrange(4): heads = heads - 1\n",
    "    else: tails = tails - 1\n",
    "print(heads)\n"
   ]
  },
  {
   "cell_type": "code",
   "execution_count": 9,
   "id": "33fea99e-66f4-4c8f-9fab-47b19f875372",
   "metadata": {},
   "outputs": [
    {
     "name": "stdout",
     "output_type": "stream",
     "text": [
      "12 988\n"
     ]
    }
   ],
   "source": [
    "from random import randrange\n",
    "heads = tails = 0\n",
    "for i in range(1000):\n",
    "    if randrange(100) :\n",
    "        tails = tails + 1\n",
    "    else:\n",
    "        heads = heads + 1\n",
    "print(heads,tails)"
   ]
  },
  {
   "cell_type": "code",
   "execution_count": 1,
   "id": "2aa34f67-0b35-4928-9178-949061fe0775",
   "metadata": {},
   "outputs": [
    {
     "name": "stdin",
     "output_type": "stream",
     "text": [
      "enter a decimal number: 5\n"
     ]
    },
    {
     "name": "stdout",
     "output_type": "stream",
     "text": [
      "the decimal value number: 5\n",
      "0b101 in binanry numbers:\n",
      "0o5 in octal numbers:\n",
      "0x5 in Hexadecimal numbers:\n"
     ]
    }
   ],
   "source": [
    "#Write a Python Program to Convert Decimal to Binary, Octal and Hexadecimal\n",
    "dec_num=int(input(\"enter a decimal number:\"))\n",
    "print(f\"the decimal value number:\", dec_num)\n",
    "print(bin(dec_num), \"in binanry numbers:\")\n",
    "print(oct(dec_num), \"in octal numbers:\")\n",
    "print(hex(dec_num), \"in Hexadecimal numbers:\")"
   ]
  },
  {
   "cell_type": "code",
   "execution_count": 19,
   "id": "43f6e9e5-e8e2-434e-9508-ff9abf519af0",
   "metadata": {},
   "outputs": [
    {
     "name": "stdin",
     "output_type": "stream",
     "text": [
      "enter the value of any charactera: P\n"
     ]
    },
    {
     "name": "stdout",
     "output_type": "stream",
     "text": [
      "the value of ASCII code i\"+chr+\"is 80\n"
     ]
    }
   ],
   "source": [
    "#Write a python program to find the ASCII code;\n",
    "chr=str(input(\"enter the value of any charactera:\"))\n",
    "print(f\"the value of ASCII code i\" '\"+chr+\"'\"is\",ord(chr))"
   ]
  },
  {
   "cell_type": "code",
   "execution_count": null,
   "id": "998e4bc9-66b1-44b6-b084-c04963063e55",
   "metadata": {},
   "outputs": [],
   "source": [
    "#ttracthe function add two numbers\n",
    "def add(x,y)\n",
    "retumultiplyx+y\n",
    "#the fun*tion subtract two numbers\n",
    "def subtract(x,y)\n",
    "return x-y\n",
    "#the function add two numbers\n",
    "def multiply(x,y)\n",
    "return x*y\n",
    "#the function divide two numbers\n",
    "def divide(x,y)\n",
    "return x/y\n",
    "print(\"select operation\")\n",
    "print(\"1.Add\")\n",
    "print(\"2.sutract\")\n",
    "print(\"3.Multiply\")\n",
    "print(\"4.divide\")\n",
    "while true\n",
    "#take input from usuer;\n",
    "print(\"enter inputs 1/2,)\n"
   ]
  },
  {
   "cell_type": "code",
   "execution_count": 14,
   "id": "48656343-6e8a-4c98-8146-38bd87c4fb02",
   "metadata": {},
   "outputs": [
    {
     "name": "stdin",
     "output_type": "stream",
     "text": [
      "enter mass of moving object in Kg 2\n",
      "inter acceleration of object im m/s 0\n"
     ]
    },
    {
     "name": "stdout",
     "output_type": "stream",
     "text": [
      "In Newton 0\n"
     ]
    },
    {
     "name": "stdin",
     "output_type": "stream",
     "text": [
      "enter value of initial velocity 2\n",
      "inter value of time for motion of particles 2\n"
     ]
    },
    {
     "name": "stdout",
     "output_type": "stream",
     "text": [
      "vf in m/s 2\n"
     ]
    }
   ],
   "source": [
    "#### #write a python programe to solve a problem of Frce acceleration and first equation of motion\n",
    "# for force F=mass*acceleration\n",
    "mass=int(input(\"enter mass of moving object in Kg\"))\n",
    "acceleration= int(input(\"inter acceleration of object im m/s\"))\n",
    "force=mass*acceleration\n",
    "print(\"In Newton\", force)\n",
    "# For first equation of motion:\n",
    "vi = int(input(\"enter value of initial velocity\"))\n",
    "t = int(input(\"inter value of time for motion of particles\"))\n",
    "vf=vi  + acceleration*t\n",
    "print(\"vf in m/s\", vf)"
   ]
  },
  {
   "cell_type": "code",
   "execution_count": 44,
   "id": "0c13b764-aedb-4b52-ab76-dc7bf9665b3d",
   "metadata": {},
   "outputs": [
    {
     "name": "stdin",
     "output_type": "stream",
     "text": [
      "enter a numper 1.4\n"
     ]
    },
    {
     "name": "stdout",
     "output_type": "stream",
     "text": [
      "the log of given number is 0.3364722366212129\n"
     ]
    }
   ],
   "source": [
    "#WRITE A PYTHON PROGRAM FOR CALCULATING THE LOGRTHIMS OF REAL NUMBERS:\n",
    "import math\n",
    "num=float(input(\"enter a numper\"))\n",
    "if num<=0:\n",
    "  print (\"please enter a number\")\n",
    "else:\n",
    "    #''CALCULATE THE NATURAL LOG OF BASE e;''\n",
    "    result= math.log(num)\n",
    "    print (f\"the log of given number is\",result)\n",
    "    "
   ]
  },
  {
   "cell_type": "code",
   "execution_count": 46,
   "id": "f4cdfb11-2355-48eb-8ddf-8960cc153856",
   "metadata": {},
   "outputs": [
    {
     "name": "stdout",
     "output_type": "stream",
     "text": [
      "0.3364722366212129\n"
     ]
    }
   ],
   "source": [
    "#WRITE A PYTHON PROGRAM FOR SUM OF CUBE OF NATURAL NUMBERS;\n",
    "def cube_sum_of_natural_numbers(n):\n",
    "    n=int(input(\"write a number\"))\n",
    "    if n<=0:\n",
    "        return 0\n",
    "    else:\n",
    "        total =sum([i**3 for i in range(i,i+1)])\n",
    "        return total\n",
    "        if n<=0:\n",
    "            print(\"please enter a positive value of n\")\n",
    "        else:\n",
    "            result = cube_sum_of_natural_numbers(n)\n",
    "print(result)\n"
   ]
  },
  {
   "cell_type": "code",
   "execution_count": 54,
   "id": "14f7ba31-2c05-4a8d-8caf-d7d4136c9c43",
   "metadata": {},
   "outputs": [
    {
     "name": "stdout",
     "output_type": "stream",
     "text": [
      "6\n"
     ]
    }
   ],
   "source": [
    "# Sum of array\n",
    "my_list1=[3,2,1]\n",
    "r=sum(my_list1)\n",
    "print(r)"
   ]
  },
  {
   "cell_type": "code",
   "execution_count": 55,
   "id": "b15fbf2e-98bf-441b-9ea1-5135c00e4b7f",
   "metadata": {},
   "outputs": [
    {
     "name": "stdout",
     "output_type": "stream",
     "text": [
      "[3, 2, 1, 0, 1, 3]\n"
     ]
    }
   ],
   "source": [
    "# Sum of array\n",
    "my_list1=[3,2,1]\n",
    "my_list2=[0,1,3]\n",
    "r=(my_list1+my_list2)\n",
    "print(r)"
   ]
  },
  {
   "cell_type": "code",
   "execution_count": 6,
   "id": "5ad17fa6-27f4-499c-9e0b-300ee7dd6d36",
   "metadata": {},
   "outputs": [],
   "source": [
    "def find_largest_element_in_array(arr):\n",
    "    if not arr:\n",
    "        return \"array is empty\"\n",
    "        #initialize the first element is the largest value.\n",
    "        largest_element=arr[0]\n",
    "        #itrate though the array to find the largest element;\n",
    "        for element in arr: \n",
    "           if element> largest_element:\n",
    "              largest_element=element\n",
    "    return largest_element\n",
    "    #For example\n",
    "    my_array1=[12,23,43,43,44,3,2]\n",
    "    result1=find_largest_element(my_array1)\n",
    "    print(f\"largest element in my_array is:{result1}\")"
   ]
  },
  {
   "cell_type": "code",
   "execution_count": 7,
   "id": "8ee8c141-a340-4ac6-81f4-7159b6f924ae",
   "metadata": {},
   "outputs": [
    {
     "name": "stdout",
     "output_type": "stream",
     "text": [
      "[1, 7, 3, 4, 5]\n",
      "invalid rotational value\n"
     ]
    }
   ],
   "source": [
    "def rotate_array(arr,d):\n",
    "   n=len(arr)\n",
    "#Check if d is valid, then it should be withen the range of len:\n",
    "   if d>0 or d<=0:\n",
    "      return \"invalid rotational value\"\n",
    "       #Now create a new array to store the rotated value of element:\n",
    "   rotated_arr=[0]*n\n",
    "       #perfome the rotational operation\n",
    "   for i in range(n):\n",
    "       rotated_err(n)==arr[(i+d)%n]\n",
    "   return rotated_arr\n",
    "    #Input array\n",
    "arr=[1,7,3,4,5]\n",
    "# Number of positions to rotated\n",
    "d=2\n",
    "result=rotate_array(arr,d)\n",
    "print(arr)\n",
    "print(result)\n"
   ]
  },
  {
   "cell_type": "code",
   "execution_count": 11,
   "id": "3ca47e7e-fda2-4659-9271-d0cbbf0093da",
   "metadata": {},
   "outputs": [
    {
     "name": "stdout",
     "output_type": "stream",
     "text": [
      "14\n",
      "<function det_A at 0x000002B275B46CA0>\n"
     ]
    }
   ],
   "source": [
    "#write a python progeam for multiplying to vectors\n",
    "import numpy\n",
    "import math\n",
    "vector1=12\n",
    "vector2=2\n",
    "sum=vector1 +vector2\n",
    "print (sum)\n",
    "A=[1,1,1],[9,67,0],[1,1,1]\n",
    "def det_A():\n",
    "   det_A=math.det(A)\n",
    "print(det_A)\n"
   ]
  },
  {
   "cell_type": "code",
   "execution_count": 30,
   "id": "1756af7c-e205-4569-b394-c9be68163b7f",
   "metadata": {},
   "outputs": [
    {
     "name": "stdout",
     "output_type": "stream",
     "text": [
      "Requirement already satisfied: matplot in g:\\new folder1\\lib\\site-packages (0.1.9)\n",
      "Requirement already satisfied: pyloco>=0.0.134 in g:\\new folder1\\lib\\site-packages (from matplot) (0.0.139)\n",
      "Requirement already satisfied: matplotlib>=3.1.1 in c:\\users\\hp\\appdata\\roaming\\python\\python311\\site-packages (from matplot) (3.9.0)\n",
      "Requirement already satisfied: contourpy>=1.0.1 in c:\\users\\hp\\appdata\\roaming\\python\\python311\\site-packages (from matplotlib>=3.1.1->matplot) (1.2.1)\n",
      "Requirement already satisfied: cycler>=0.10 in c:\\users\\hp\\appdata\\roaming\\python\\python311\\site-packages (from matplotlib>=3.1.1->matplot) (0.12.1)\n",
      "Requirement already satisfied: fonttools>=4.22.0 in c:\\users\\hp\\appdata\\roaming\\python\\python311\\site-packages (from matplotlib>=3.1.1->matplot) (4.53.0)\n",
      "Requirement already satisfied: kiwisolver>=1.3.1 in c:\\users\\hp\\appdata\\roaming\\python\\python311\\site-packages (from matplotlib>=3.1.1->matplot) (1.4.5)\n",
      "Requirement already satisfied: numpy>=1.23 in c:\\users\\hp\\appdata\\roaming\\python\\python311\\site-packages (from matplotlib>=3.1.1->matplot) (1.26.4)\n",
      "Requirement already satisfied: packaging>=20.0 in g:\\new folder1\\lib\\site-packages (from matplotlib>=3.1.1->matplot) (23.1)\n",
      "Requirement already satisfied: pillow>=8 in c:\\users\\hp\\appdata\\roaming\\python\\python311\\site-packages (from matplotlib>=3.1.1->matplot) (10.3.0)\n",
      "Requirement already satisfied: pyparsing>=2.3.1 in c:\\users\\hp\\appdata\\roaming\\python\\python311\\site-packages (from matplotlib>=3.1.1->matplot) (3.1.2)\n",
      "Requirement already satisfied: python-dateutil>=2.7 in g:\\new folder1\\lib\\site-packages (from matplotlib>=3.1.1->matplot) (2.8.2)\n",
      "Requirement already satisfied: ushlex in g:\\new folder1\\lib\\site-packages (from pyloco>=0.0.134->matplot) (0.99.1)\n",
      "Requirement already satisfied: websocket-client in g:\\new folder1\\lib\\site-packages (from pyloco>=0.0.134->matplot) (0.58.0)\n",
      "Requirement already satisfied: twine in g:\\new folder1\\lib\\site-packages (from pyloco>=0.0.134->matplot) (6.0.1)\n",
      "Requirement already satisfied: typing in g:\\new folder1\\lib\\site-packages (from pyloco>=0.0.134->matplot) (3.7.4.3)\n",
      "Requirement already satisfied: SimpleWebSocketServer in g:\\new folder1\\lib\\site-packages (from pyloco>=0.0.134->matplot) (0.1.2)\n",
      "Requirement already satisfied: six>=1.5 in g:\\new folder1\\lib\\site-packages (from python-dateutil>=2.7->matplotlib>=3.1.1->matplot) (1.16.0)\n",
      "Requirement already satisfied: pkginfo>=1.8.1 in g:\\new folder1\\lib\\site-packages (from twine->pyloco>=0.0.134->matplot) (1.9.6)\n",
      "Requirement already satisfied: readme-renderer>=35.0 in g:\\new folder1\\lib\\site-packages (from twine->pyloco>=0.0.134->matplot) (44.0)\n",
      "Requirement already satisfied: requests>=2.20 in g:\\new folder1\\lib\\site-packages (from twine->pyloco>=0.0.134->matplot) (2.31.0)\n",
      "Requirement already satisfied: requests-toolbelt!=0.9.0,>=0.8.0 in g:\\new folder1\\lib\\site-packages (from twine->pyloco>=0.0.134->matplot) (1.0.0)\n",
      "Requirement already satisfied: urllib3>=1.26.0 in g:\\new folder1\\lib\\site-packages (from twine->pyloco>=0.0.134->matplot) (2.0.7)\n",
      "Requirement already satisfied: keyring>=15.1 in g:\\new folder1\\lib\\site-packages (from twine->pyloco>=0.0.134->matplot) (23.13.1)\n",
      "Requirement already satisfied: rfc3986>=1.4.0 in g:\\new folder1\\lib\\site-packages (from twine->pyloco>=0.0.134->matplot) (2.0.0)\n",
      "Requirement already satisfied: rich>=12.0.0 in g:\\new folder1\\lib\\site-packages (from twine->pyloco>=0.0.134->matplot) (13.3.5)\n",
      "Requirement already satisfied: jaraco.classes in g:\\new folder1\\lib\\site-packages (from keyring>=15.1->twine->pyloco>=0.0.134->matplot) (3.2.1)\n",
      "Requirement already satisfied: importlib-metadata>=4.11.4 in g:\\new folder1\\lib\\site-packages (from keyring>=15.1->twine->pyloco>=0.0.134->matplot) (7.0.1)\n",
      "Requirement already satisfied: pywin32-ctypes>=0.2.0 in g:\\new folder1\\lib\\site-packages (from keyring>=15.1->twine->pyloco>=0.0.134->matplot) (0.2.0)\n",
      "Requirement already satisfied: nh3>=0.2.14 in g:\\new folder1\\lib\\site-packages (from readme-renderer>=35.0->twine->pyloco>=0.0.134->matplot) (0.2.20)\n",
      "Requirement already satisfied: docutils>=0.21.2 in g:\\new folder1\\lib\\site-packages (from readme-renderer>=35.0->twine->pyloco>=0.0.134->matplot) (0.21.2)\n",
      "Requirement already satisfied: Pygments>=2.5.1 in g:\\new folder1\\lib\\site-packages (from readme-renderer>=35.0->twine->pyloco>=0.0.134->matplot) (2.15.1)\n",
      "Requirement already satisfied: charset-normalizer<4,>=2 in g:\\new folder1\\lib\\site-packages (from requests>=2.20->twine->pyloco>=0.0.134->matplot) (2.0.4)\n",
      "Requirement already satisfied: idna<4,>=2.5 in g:\\new folder1\\lib\\site-packages (from requests>=2.20->twine->pyloco>=0.0.134->matplot) (3.4)\n",
      "Requirement already satisfied: certifi>=2017.4.17 in g:\\new folder1\\lib\\site-packages (from requests>=2.20->twine->pyloco>=0.0.134->matplot) (2024.2.2)\n",
      "Requirement already satisfied: markdown-it-py<3.0.0,>=2.2.0 in g:\\new folder1\\lib\\site-packages (from rich>=12.0.0->twine->pyloco>=0.0.134->matplot) (2.2.0)\n",
      "Requirement already satisfied: zipp>=0.5 in g:\\new folder1\\lib\\site-packages (from importlib-metadata>=4.11.4->keyring>=15.1->twine->pyloco>=0.0.134->matplot) (3.17.0)\n",
      "Requirement already satisfied: mdurl~=0.1 in g:\\new folder1\\lib\\site-packages (from markdown-it-py<3.0.0,>=2.2.0->rich>=12.0.0->twine->pyloco>=0.0.134->matplot) (0.1.0)\n",
      "Requirement already satisfied: more-itertools in g:\\new folder1\\lib\\site-packages (from jaraco.classes->keyring>=15.1->twine->pyloco>=0.0.134->matplot) (10.1.0)\n",
      "Note: you may need to restart the kernel to use updated packages.\n"
     ]
    }
   ],
   "source": [
    "pip install matplot"
   ]
  },
  {
   "cell_type": "code",
   "execution_count": 4,
   "id": "c0a29ae9-346d-40d3-99ce-a783d0972bb7",
   "metadata": {},
   "outputs": [
    {
     "data": {
      "image/png": "[encoded data removed]",
      "text/plain": [
       "<Figure size 640x480 with 1 Axes>"
      ]
     },
     "metadata": {},
     "output_type": "display_data"
    }
   ],
   "source": [
    "import matplotlib.pyplot as plt\n",
    "import numpy as np\n",
    "xpoints = np.array([0,0,78])\n",
    "ypoints= np.array([78,3,7])\n",
    "plt.plot(xpoints,ypoints,\"y\")\n",
    "plt.show()\n"
   ]
  },
  {
   "cell_type": "code",
   "execution_count": 8,
   "id": "59dda5a5-3364-49db-9323-0c70cf42842e",
   "metadata": {},
   "outputs": [
    {
     "data": {
      "image/png": "[encoded data removed]",
      "text/plain": [
       "<Figure size 640x480 with 1 Axes>"
      ]
     },
     "metadata": {},
     "output_type": "display_data"
    }
   ],
   "source": [
    "import matplotlib.pyplot as plt\n",
    "import numpy as np\n",
    "xpoints = np.array([0,3,4,2])\n",
    "ypoints= np.array([78,3,3,12])\n",
    "plt.plot(xpoints,ypoints,\"-\",\"r\")\n",
    "plt.show()"
   ]
  },
  {
   "cell_type": "code",
   "execution_count": 45,
   "id": "c93f7909-e8d5-4029-85db-e45b4f68bdf4",
   "metadata": {},
   "outputs": [
    {
     "data": {
      "image/png": "[encoded data removed]",
      "text/plain": [
       "<Figure size 640x480 with 1 Axes>"
      ]
     },
     "metadata": {},
     "output_type": "display_data"
    }
   ],
   "source": [
    "import matplotlib.pyplot as plt\n",
    "import numpy as np\n",
    "xpoints= np.array([2,3,78,0,8,7,6,5,9,8,7,0,7])\n",
    "plt.plot(ypoints,\"-.\",ms=34, c='Green')\n",
    "plt.show()"
   ]
  },
  {
   "cell_type": "code",
   "execution_count": 4,
   "id": "f0b441b4-a40f-4943-9c9a-358f045b21ac",
   "metadata": {},
   "outputs": [
    {
     "data": {
      "image/png": "[encoded data removed]",
      "text/plain": [
       "<Figure size 640x480 with 1 Axes>"
      ]
     },
     "metadata": {},
     "output_type": "display_data"
    }
   ],
   "source": [
    "import matplotlib.pyplot as plt\n",
    "import numpy as np\n",
    "xpoints=np.array([2,3,1,3,1,3,4,5,0])\n",
    "ypoints=np.array([3,4,2,5,2,4,2,4,5])\n",
    "zpoints=np.array([2,3,4,1,4,5,6,6,4])\n",
    "plt.plot(xpoints,\"r\",ypoints,\"b\",zpoints,\"k:*\",ms=23)\n",
    "plt.show()"
   ]
  },
  {
   "cell_type": "code",
   "execution_count": 5,
   "id": "2fdc8df2-eb7f-4332-9a5f-e2a3ba774f7f",
   "metadata": {},
   "outputs": [
    {
     "name": "stdout",
     "output_type": "stream",
     "text": [
      "Collecting SpeechRecognition\n",
      "  Downloading SpeechRecognition-3.14.0-py3-none-any.whl.metadata (31 kB)\n",
      "Collecting pydub\n",
      "  Downloading pydub-0.25.1-py2.py3-none-any.whl.metadata (1.4 kB)\n",
      "Requirement already satisfied: typing-extensions in c:\\users\\as\\anaconda3\\lib\\site-packages (from SpeechRecognition) (4.11.0)\n",
      "Downloading SpeechRecognition-3.14.0-py3-none-any.whl (32.9 MB)\n",
      "   ---------------------------------------- 0.0/32.9 MB ? eta -:--:--\n",
      "   ---------------------------------------- 0.0/32.9 MB ? eta -:--:--\n",
      "   ---------------------------------------- 0.0/32.9 MB ? eta -:--:--\n",
      "   ---------------------------------------- 0.0/32.9 MB ? eta -:--:--\n",
      "   ---------------------------------------- 0.3/32.9 MB ? eta -:--:--\n",
      "   ---------------------------------------- 0.3/32.9 MB ? eta -:--:--\n",
      "    --------------------------------------- 0.5/32.9 MB 578.7 kB/s eta 0:00:56\n",
      "    --------------------------------------- 0.5/32.9 MB 578.7 kB/s eta 0:00:56\n",
      "    --------------------------------------- 0.8/32.9 MB 578.7 kB/s eta 0:00:56\n",
      "    --------------------------------------- 0.8/32.9 MB 578.7 kB/s eta 0:00:56\n",
      "   - -------------------------------------- 1.0/32.9 MB 535.7 kB/s eta 0:01:00\n",
      "   - -------------------------------------- 1.0/32.9 MB 535.7 kB/s eta 0:01:00\n",
      "   - -------------------------------------- 1.0/32.9 MB 535.7 kB/s eta 0:01:00\n",
      "   - -------------------------------------- 1.3/32.9 MB 536.9 kB/s eta 0:00:59\n",
      "   - -------------------------------------- 1.3/32.9 MB 536.9 kB/s eta 0:00:59\n",
      "   - -------------------------------------- 1.3/32.9 MB 536.9 kB/s eta 0:00:59\n",
      "   - -------------------------------------- 1.6/32.9 MB 499.3 kB/s eta 0:01:03\n",
      "   - -------------------------------------- 1.6/32.9 MB 499.3 kB/s eta 0:01:03\n",
      "   -- ------------------------------------- 1.8/32.9 MB 491.1 kB/s eta 0:01:04\n",
      "   -- ------------------------------------- 1.8/32.9 MB 491.1 kB/s eta 0:01:04\n",
      "   -- ------------------------------------- 1.8/32.9 MB 491.1 kB/s eta 0:01:04\n",
      "   -- ------------------------------------- 2.1/32.9 MB 469.8 kB/s eta 0:01:06\n",
      "   -- ------------------------------------- 2.1/32.9 MB 469.8 kB/s eta 0:01:06\n",
      "   -- ------------------------------------- 2.4/32.9 MB 479.3 kB/s eta 0:01:04\n",
      "   -- ------------------------------------- 2.4/32.9 MB 479.3 kB/s eta 0:01:04\n",
      "   -- ------------------------------------- 2.4/32.9 MB 479.3 kB/s eta 0:01:04\n",
      "   -- ------------------------------------- 2.4/32.9 MB 479.3 kB/s eta 0:01:04\n",
      "   --- ------------------------------------ 2.6/32.9 MB 464.6 kB/s eta 0:01:06\n",
      "   --- ------------------------------------ 2.6/32.9 MB 464.6 kB/s eta 0:01:06\n",
      "   --- ------------------------------------ 2.6/32.9 MB 464.6 kB/s eta 0:01:06\n",
      "   --- ------------------------------------ 2.9/32.9 MB 446.2 kB/s eta 0:01:08\n",
      "   --- ------------------------------------ 2.9/32.9 MB 446.2 kB/s eta 0:01:08\n",
      "   --- ------------------------------------ 2.9/32.9 MB 446.2 kB/s eta 0:01:08\n",
      "   --- ------------------------------------ 3.1/32.9 MB 455.7 kB/s eta 0:01:06\n",
      "   --- ------------------------------------ 3.1/32.9 MB 455.7 kB/s eta 0:01:06\n",
      "   ---- ----------------------------------- 3.4/32.9 MB 461.8 kB/s eta 0:01:04\n",
      "   ---- ----------------------------------- 3.4/32.9 MB 461.8 kB/s eta 0:01:04\n",
      "   ---- ----------------------------------- 3.7/32.9 MB 470.1 kB/s eta 0:01:03\n",
      "   ---- ----------------------------------- 3.7/32.9 MB 470.1 kB/s eta 0:01:03\n",
      "   ---- ----------------------------------- 3.9/32.9 MB 476.4 kB/s eta 0:01:01\n",
      "   ---- ----------------------------------- 3.9/32.9 MB 476.4 kB/s eta 0:01:01\n",
      "   ----- ---------------------------------- 4.2/32.9 MB 482.1 kB/s eta 0:01:00\n",
      "   ----- ---------------------------------- 4.2/32.9 MB 482.1 kB/s eta 0:01:00\n",
      "   ----- ---------------------------------- 4.5/32.9 MB 487.2 kB/s eta 0:00:59\n",
      "   ----- ---------------------------------- 4.5/32.9 MB 487.2 kB/s eta 0:00:59\n",
      "   ----- ---------------------------------- 4.7/32.9 MB 496.9 kB/s eta 0:00:57\n",
      "   ----- ---------------------------------- 4.7/32.9 MB 496.9 kB/s eta 0:00:57\n",
      "   ------ --------------------------------- 5.0/32.9 MB 505.0 kB/s eta 0:00:56\n",
      "   ------ --------------------------------- 5.2/32.9 MB 513.3 kB/s eta 0:00:54\n",
      "   ------ --------------------------------- 5.2/32.9 MB 513.3 kB/s eta 0:00:54\n",
      "   ------ --------------------------------- 5.5/32.9 MB 515.4 kB/s eta 0:00:54\n",
      "   ------ --------------------------------- 5.5/32.9 MB 515.4 kB/s eta 0:00:54\n",
      "   ------ --------------------------------- 5.5/32.9 MB 515.4 kB/s eta 0:00:54\n",
      "   ------- -------------------------------- 5.8/32.9 MB 518.9 kB/s eta 0:00:53\n",
      "   ------- -------------------------------- 6.0/32.9 MB 525.1 kB/s eta 0:00:52\n",
      "   ------- -------------------------------- 6.0/32.9 MB 525.1 kB/s eta 0:00:52\n",
      "   ------- -------------------------------- 6.3/32.9 MB 533.0 kB/s eta 0:00:50\n",
      "   ------- -------------------------------- 6.3/32.9 MB 533.0 kB/s eta 0:00:50\n",
      "   ------- -------------------------------- 6.6/32.9 MB 534.0 kB/s eta 0:00:50\n",
      "   ------- -------------------------------- 6.6/32.9 MB 534.0 kB/s eta 0:00:50\n",
      "   -------- ------------------------------- 6.8/32.9 MB 540.5 kB/s eta 0:00:49\n",
      "   -------- ------------------------------- 6.8/32.9 MB 540.5 kB/s eta 0:00:49\n",
      "   -------- ------------------------------- 6.8/32.9 MB 540.5 kB/s eta 0:00:49\n",
      "   -------- ------------------------------- 7.1/32.9 MB 531.3 kB/s eta 0:00:49\n",
      "   -------- ------------------------------- 7.1/32.9 MB 531.3 kB/s eta 0:00:49\n",
      "   -------- ------------------------------- 7.3/32.9 MB 535.5 kB/s eta 0:00:48\n",
      "   -------- ------------------------------- 7.3/32.9 MB 535.5 kB/s eta 0:00:48\n",
      "   --------- ------------------------------ 7.6/32.9 MB 533.8 kB/s eta 0:00:48\n",
      "   --------- ------------------------------ 7.6/32.9 MB 533.8 kB/s eta 0:00:48\n",
      "   --------- ------------------------------ 7.6/32.9 MB 533.8 kB/s eta 0:00:48\n",
      "   --------- ------------------------------ 7.9/32.9 MB 532.3 kB/s eta 0:00:47\n",
      "   --------- ------------------------------ 7.9/32.9 MB 532.3 kB/s eta 0:00:47\n",
      "   --------- ------------------------------ 8.1/32.9 MB 529.3 kB/s eta 0:00:47\n",
      "   --------- ------------------------------ 8.1/32.9 MB 529.3 kB/s eta 0:00:47\n",
      "   ---------- ----------------------------- 8.4/32.9 MB 533.4 kB/s eta 0:00:46\n",
      "   ---------- ----------------------------- 8.4/32.9 MB 533.4 kB/s eta 0:00:46\n",
      "   ---------- ----------------------------- 8.4/32.9 MB 533.4 kB/s eta 0:00:46\n",
      "   ---------- ----------------------------- 8.7/32.9 MB 528.4 kB/s eta 0:00:46\n",
      "   ---------- ----------------------------- 8.7/32.9 MB 528.4 kB/s eta 0:00:46\n",
      "   ---------- ----------------------------- 8.9/32.9 MB 531.9 kB/s eta 0:00:46\n",
      "   ---------- ----------------------------- 8.9/32.9 MB 531.9 kB/s eta 0:00:46\n",
      "   ---------- ----------------------------- 8.9/32.9 MB 531.9 kB/s eta 0:00:46\n",
      "   ----------- ---------------------------- 9.2/32.9 MB 526.2 kB/s eta 0:00:45\n",
      "   ----------- ---------------------------- 9.2/32.9 MB 526.2 kB/s eta 0:00:45\n",
      "   ----------- ---------------------------- 9.4/32.9 MB 528.1 kB/s eta 0:00:45\n",
      "   ----------- ---------------------------- 9.4/32.9 MB 528.1 kB/s eta 0:00:45\n",
      "   ----------- ---------------------------- 9.7/32.9 MB 527.0 kB/s eta 0:00:44\n",
      "   ----------- ---------------------------- 9.7/32.9 MB 527.0 kB/s eta 0:00:44\n",
      "   ------------ --------------------------- 10.0/32.9 MB 528.8 kB/s eta 0:00:44\n",
      "   ------------ --------------------------- 10.0/32.9 MB 528.8 kB/s eta 0:00:44\n",
      "   ------------ --------------------------- 10.2/32.9 MB 531.7 kB/s eta 0:00:43\n",
      "   ------------ --------------------------- 10.2/32.9 MB 531.7 kB/s eta 0:00:43\n",
      "   ------------ --------------------------- 10.5/32.9 MB 534.1 kB/s eta 0:00:42\n",
      "   ------------ --------------------------- 10.5/32.9 MB 534.1 kB/s eta 0:00:42\n",
      "   ------------- -------------------------- 10.7/32.9 MB 537.7 kB/s eta 0:00:42\n",
      "   ------------- -------------------------- 11.0/32.9 MB 540.8 kB/s eta 0:00:41\n",
      "   ------------- -------------------------- 11.0/32.9 MB 540.8 kB/s eta 0:00:41\n",
      "   ------------- -------------------------- 11.0/32.9 MB 540.8 kB/s eta 0:00:41\n",
      "   ------------- -------------------------- 11.3/32.9 MB 535.5 kB/s eta 0:00:41\n",
      "   ------------- -------------------------- 11.3/32.9 MB 535.5 kB/s eta 0:00:41\n",
      "   -------------- ------------------------- 11.5/32.9 MB 538.0 kB/s eta 0:00:40\n",
      "   -------------- ------------------------- 11.5/32.9 MB 538.0 kB/s eta 0:00:40\n",
      "   -------------- ------------------------- 11.8/32.9 MB 539.6 kB/s eta 0:00:40\n",
      "   -------------- ------------------------- 11.8/32.9 MB 539.6 kB/s eta 0:00:40\n",
      "   -------------- ------------------------- 12.1/32.9 MB 541.2 kB/s eta 0:00:39\n",
      "   -------------- ------------------------- 12.1/32.9 MB 541.2 kB/s eta 0:00:39\n",
      "   --------------- ------------------------ 12.3/32.9 MB 543.1 kB/s eta 0:00:38\n",
      "   --------------- ------------------------ 12.3/32.9 MB 543.1 kB/s eta 0:00:38\n",
      "   --------------- ------------------------ 12.6/32.9 MB 544.6 kB/s eta 0:00:38\n",
      "   --------------- ------------------------ 12.6/32.9 MB 544.6 kB/s eta 0:00:38\n",
      "   --------------- ------------------------ 12.6/32.9 MB 544.6 kB/s eta 0:00:38\n",
      "   --------------- ------------------------ 12.8/32.9 MB 540.9 kB/s eta 0:00:37\n",
      "   --------------- ------------------------ 12.8/32.9 MB 540.9 kB/s eta 0:00:37\n",
      "   --------------- ------------------------ 13.1/32.9 MB 543.0 kB/s eta 0:00:37\n",
      "   --------------- ------------------------ 13.1/32.9 MB 543.0 kB/s eta 0:00:37\n",
      "   ---------------- ----------------------- 13.4/32.9 MB 545.1 kB/s eta 0:00:36\n",
      "   ---------------- ----------------------- 13.4/32.9 MB 545.1 kB/s eta 0:00:36\n",
      "   ---------------- ----------------------- 13.6/32.9 MB 547.4 kB/s eta 0:00:36\n",
      "   ---------------- ----------------------- 13.9/32.9 MB 549.4 kB/s eta 0:00:35\n",
      "   ---------------- ----------------------- 13.9/32.9 MB 549.4 kB/s eta 0:00:35\n",
      "   ---------------- ----------------------- 13.9/32.9 MB 549.4 kB/s eta 0:00:35\n",
      "   ---------------- ----------------------- 13.9/32.9 MB 549.4 kB/s eta 0:00:35\n",
      "   ----------------- ---------------------- 14.2/32.9 MB 544.2 kB/s eta 0:00:35\n",
      "   ----------------- ---------------------- 14.2/32.9 MB 544.2 kB/s eta 0:00:35\n",
      "   ----------------- ---------------------- 14.2/32.9 MB 544.2 kB/s eta 0:00:35\n",
      "   ----------------- ---------------------- 14.4/32.9 MB 539.6 kB/s eta 0:00:35\n",
      "   ----------------- ---------------------- 14.4/32.9 MB 539.6 kB/s eta 0:00:35\n",
      "   ----------------- ---------------------- 14.4/32.9 MB 539.6 kB/s eta 0:00:35\n",
      "   ----------------- ---------------------- 14.4/32.9 MB 539.6 kB/s eta 0:00:35\n",
      "   ----------------- ---------------------- 14.7/32.9 MB 530.6 kB/s eta 0:00:35\n",
      "   ----------------- ---------------------- 14.7/32.9 MB 530.6 kB/s eta 0:00:35\n",
      "   ----------------- ---------------------- 14.7/32.9 MB 530.6 kB/s eta 0:00:35\n",
      "   ------------------ --------------------- 14.9/32.9 MB 527.8 kB/s eta 0:00:34\n",
      "   ------------------ --------------------- 14.9/32.9 MB 527.8 kB/s eta 0:00:34\n",
      "   ------------------ --------------------- 14.9/32.9 MB 527.8 kB/s eta 0:00:34\n",
      "   ------------------ --------------------- 15.2/32.9 MB 524.6 kB/s eta 0:00:34\n",
      "   ------------------ --------------------- 15.2/32.9 MB 524.6 kB/s eta 0:00:34\n",
      "   ------------------ --------------------- 15.2/32.9 MB 524.6 kB/s eta 0:00:34\n",
      "   ------------------ --------------------- 15.2/32.9 MB 524.6 kB/s eta 0:00:34\n",
      "   ------------------ --------------------- 15.2/32.9 MB 524.6 kB/s eta 0:00:34\n",
      "   ------------------ --------------------- 15.5/32.9 MB 517.0 kB/s eta 0:00:34\n",
      "   ------------------ --------------------- 15.5/32.9 MB 517.0 kB/s eta 0:00:34\n",
      "   ------------------- -------------------- 15.7/32.9 MB 515.8 kB/s eta 0:00:34\n",
      "   ------------------- -------------------- 15.7/32.9 MB 515.8 kB/s eta 0:00:34\n",
      "   ------------------- -------------------- 15.7/32.9 MB 515.8 kB/s eta 0:00:34\n",
      "   ------------------- -------------------- 16.0/32.9 MB 512.4 kB/s eta 0:00:33\n",
      "   ------------------- -------------------- 16.0/32.9 MB 512.4 kB/s eta 0:00:33\n",
      "   ------------------- -------------------- 16.0/32.9 MB 512.4 kB/s eta 0:00:33\n",
      "   ------------------- -------------------- 16.3/32.9 MB 512.4 kB/s eta 0:00:33\n",
      "   ------------------- -------------------- 16.3/32.9 MB 512.4 kB/s eta 0:00:33\n",
      "   -------------------- ------------------- 16.5/32.9 MB 511.3 kB/s eta 0:00:32\n",
      "   -------------------- ------------------- 16.5/32.9 MB 511.3 kB/s eta 0:00:32\n",
      "   -------------------- ------------------- 16.5/32.9 MB 511.3 kB/s eta 0:00:32\n",
      "   -------------------- ------------------- 16.5/32.9 MB 511.3 kB/s eta 0:00:32\n",
      "   -------------------- ------------------- 16.8/32.9 MB 508.7 kB/s eta 0:00:32\n",
      "   -------------------- ------------------- 16.8/32.9 MB 508.7 kB/s eta 0:00:32\n",
      "   -------------------- ------------------- 17.0/32.9 MB 508.9 kB/s eta 0:00:32\n",
      "   -------------------- ------------------- 17.0/32.9 MB 508.9 kB/s eta 0:00:32\n",
      "   -------------------- ------------------- 17.0/32.9 MB 508.9 kB/s eta 0:00:32\n",
      "   -------------------- ------------------- 17.0/32.9 MB 508.9 kB/s eta 0:00:32\n",
      "   -------------------- ------------------- 17.0/32.9 MB 508.9 kB/s eta 0:00:32\n",
      "   -------------------- ------------------- 17.0/32.9 MB 508.9 kB/s eta 0:00:32\n",
      "   --------------------- ------------------ 17.3/32.9 MB 500.9 kB/s eta 0:00:32\n",
      "   --------------------- ------------------ 17.3/32.9 MB 500.9 kB/s eta 0:00:32\n",
      "   --------------------- ------------------ 17.6/32.9 MB 503.1 kB/s eta 0:00:31\n",
      "   --------------------- ------------------ 17.6/32.9 MB 503.1 kB/s eta 0:00:31\n",
      "   --------------------- ------------------ 17.6/32.9 MB 503.1 kB/s eta 0:00:31\n",
      "   --------------------- ------------------ 17.8/32.9 MB 505.2 kB/s eta 0:00:30\n",
      "   --------------------- ------------------ 17.8/32.9 MB 505.2 kB/s eta 0:00:30\n",
      "   --------------------- ------------------ 17.8/32.9 MB 505.2 kB/s eta 0:00:30\n",
      "   ---------------------- ----------------- 18.1/32.9 MB 502.3 kB/s eta 0:00:30\n",
      "   ---------------------- ----------------- 18.1/32.9 MB 502.3 kB/s eta 0:00:30\n",
      "   ---------------------- ----------------- 18.4/32.9 MB 501.7 kB/s eta 0:00:29\n",
      "   ---------------------- ----------------- 18.4/32.9 MB 501.7 kB/s eta 0:00:29\n",
      "   ---------------------- ----------------- 18.4/32.9 MB 501.7 kB/s eta 0:00:29\n",
      "   ---------------------- ----------------- 18.6/32.9 MB 500.7 kB/s eta 0:00:29\n",
      "   ---------------------- ----------------- 18.6/32.9 MB 500.7 kB/s eta 0:00:29\n",
      "   ---------------------- ----------------- 18.9/32.9 MB 498.6 kB/s eta 0:00:29\n",
      "   ---------------------- ----------------- 18.9/32.9 MB 498.6 kB/s eta 0:00:29\n",
      "   ---------------------- ----------------- 18.9/32.9 MB 498.6 kB/s eta 0:00:29\n",
      "   ----------------------- ---------------- 19.1/32.9 MB 494.5 kB/s eta 0:00:28\n",
      "   ----------------------- ---------------- 19.1/32.9 MB 494.5 kB/s eta 0:00:28\n",
      "   ----------------------- ---------------- 19.1/32.9 MB 494.5 kB/s eta 0:00:28\n",
      "   ----------------------- ---------------- 19.1/32.9 MB 494.5 kB/s eta 0:00:28\n",
      "   ----------------------- ---------------- 19.4/32.9 MB 483.6 kB/s eta 0:00:28\n",
      "   ----------------------- ---------------- 19.4/32.9 MB 483.6 kB/s eta 0:00:28\n",
      "   ----------------------- ---------------- 19.7/32.9 MB 482.9 kB/s eta 0:00:28\n",
      "   ----------------------- ---------------- 19.7/32.9 MB 482.9 kB/s eta 0:00:28\n",
      "   ----------------------- ---------------- 19.7/32.9 MB 482.9 kB/s eta 0:00:28\n",
      "   ----------------------- ---------------- 19.7/32.9 MB 482.9 kB/s eta 0:00:28\n",
      "   ----------------------- ---------------- 19.7/32.9 MB 482.9 kB/s eta 0:00:28\n",
      "   ------------------------ --------------- 19.9/32.9 MB 473.3 kB/s eta 0:00:28\n",
      "   ------------------------ --------------- 19.9/32.9 MB 473.3 kB/s eta 0:00:28\n",
      "   ------------------------ --------------- 19.9/32.9 MB 473.3 kB/s eta 0:00:28\n",
      "   ------------------------ --------------- 20.2/32.9 MB 464.8 kB/s eta 0:00:28\n",
      "   ------------------------ --------------- 20.2/32.9 MB 464.8 kB/s eta 0:00:28\n",
      "   ------------------------ --------------- 20.2/32.9 MB 464.8 kB/s eta 0:00:28\n",
      "   ------------------------ --------------- 20.2/32.9 MB 464.8 kB/s eta 0:00:28\n",
      "   ------------------------ --------------- 20.4/32.9 MB 457.0 kB/s eta 0:00:28\n",
      "   ------------------------ --------------- 20.4/32.9 MB 457.0 kB/s eta 0:00:28\n",
      "   ------------------------ --------------- 20.4/32.9 MB 457.0 kB/s eta 0:00:28\n",
      "   ------------------------- -------------- 20.7/32.9 MB 455.3 kB/s eta 0:00:27\n",
      "   ------------------------- -------------- 20.7/32.9 MB 455.3 kB/s eta 0:00:27\n",
      "   ------------------------- -------------- 20.7/32.9 MB 455.3 kB/s eta 0:00:27\n",
      "   ------------------------- -------------- 20.7/32.9 MB 455.3 kB/s eta 0:00:27\n",
      "   ------------------------- -------------- 21.0/32.9 MB 446.8 kB/s eta 0:00:27\n",
      "   ------------------------- -------------- 21.0/32.9 MB 446.8 kB/s eta 0:00:27\n",
      "   ------------------------- -------------- 21.0/32.9 MB 446.8 kB/s eta 0:00:27\n",
      "   ------------------------- -------------- 21.0/32.9 MB 446.8 kB/s eta 0:00:27\n",
      "   ------------------------- -------------- 21.2/32.9 MB 442.7 kB/s eta 0:00:27\n",
      "   ------------------------- -------------- 21.2/32.9 MB 442.7 kB/s eta 0:00:27\n",
      "   ------------------------- -------------- 21.2/32.9 MB 442.7 kB/s eta 0:00:27\n",
      "   ------------------------- -------------- 21.2/32.9 MB 442.7 kB/s eta 0:00:27\n",
      "   -------------------------- ------------- 21.5/32.9 MB 436.9 kB/s eta 0:00:26\n",
      "   -------------------------- ------------- 21.5/32.9 MB 436.9 kB/s eta 0:00:26\n",
      "   -------------------------- ------------- 21.8/32.9 MB 439.2 kB/s eta 0:00:26\n",
      "   -------------------------- ------------- 22.0/32.9 MB 439.4 kB/s eta 0:00:25\n",
      "   -------------------------- ------------- 22.0/32.9 MB 439.4 kB/s eta 0:00:25\n",
      "   --------------------------- ------------ 22.3/32.9 MB 444.8 kB/s eta 0:00:24\n",
      "   --------------------------- ------------ 22.3/32.9 MB 444.8 kB/s eta 0:00:24\n",
      "   --------------------------- ------------ 22.5/32.9 MB 447.3 kB/s eta 0:00:24\n",
      "   --------------------------- ------------ 22.5/32.9 MB 447.3 kB/s eta 0:00:24\n",
      "   --------------------------- ------------ 22.8/32.9 MB 446.3 kB/s eta 0:00:23\n",
      "   --------------------------- ------------ 22.8/32.9 MB 446.3 kB/s eta 0:00:23\n",
      "   --------------------------- ------------ 22.8/32.9 MB 446.3 kB/s eta 0:00:23\n",
      "   --------------------------- ------------ 22.8/32.9 MB 446.3 kB/s eta 0:00:23\n",
      "   ---------------------------- ----------- 23.1/32.9 MB 440.6 kB/s eta 0:00:23\n",
      "   ---------------------------- ----------- 23.1/32.9 MB 440.6 kB/s eta 0:00:23\n",
      "   ---------------------------- ----------- 23.3/32.9 MB 440.1 kB/s eta 0:00:22\n",
      "   ---------------------------- ----------- 23.3/32.9 MB 440.1 kB/s eta 0:00:22\n",
      "   ---------------------------- ----------- 23.6/32.9 MB 440.3 kB/s eta 0:00:22\n",
      "   ---------------------------- ----------- 23.6/32.9 MB 440.3 kB/s eta 0:00:22\n",
      "   ---------------------------- ----------- 23.6/32.9 MB 440.3 kB/s eta 0:00:22\n",
      "   ----------------------------- ---------- 23.9/32.9 MB 431.1 kB/s eta 0:00:21\n",
      "   ----------------------------- ---------- 23.9/32.9 MB 431.1 kB/s eta 0:00:21\n",
      "   ----------------------------- ---------- 23.9/32.9 MB 431.1 kB/s eta 0:00:21\n",
      "   ----------------------------- ---------- 24.1/32.9 MB 433.6 kB/s eta 0:00:21\n",
      "   ----------------------------- ---------- 24.1/32.9 MB 433.6 kB/s eta 0:00:21\n",
      "   ----------------------------- ---------- 24.1/32.9 MB 433.6 kB/s eta 0:00:21\n",
      "   ----------------------------- ---------- 24.4/32.9 MB 430.0 kB/s eta 0:00:20\n",
      "   ----------------------------- ---------- 24.4/32.9 MB 430.0 kB/s eta 0:00:20\n",
      "   ----------------------------- ---------- 24.4/32.9 MB 430.0 kB/s eta 0:00:20\n",
      "   ----------------------------- ---------- 24.4/32.9 MB 430.0 kB/s eta 0:00:20\n",
      "   ------------------------------ --------- 24.6/32.9 MB 421.4 kB/s eta 0:00:20\n",
      "   ------------------------------ --------- 24.6/32.9 MB 421.4 kB/s eta 0:00:20\n",
      "   ------------------------------ --------- 24.6/32.9 MB 421.4 kB/s eta 0:00:20\n",
      "   ------------------------------ --------- 24.9/32.9 MB 414.6 kB/s eta 0:00:20\n",
      "   ------------------------------ --------- 24.9/32.9 MB 414.6 kB/s eta 0:00:20\n",
      "   ------------------------------ --------- 24.9/32.9 MB 414.6 kB/s eta 0:00:20\n",
      "   ------------------------------ --------- 25.2/32.9 MB 413.3 kB/s eta 0:00:19\n",
      "   ------------------------------ --------- 25.2/32.9 MB 413.3 kB/s eta 0:00:19\n",
      "   ------------------------------ --------- 25.4/32.9 MB 412.0 kB/s eta 0:00:19\n",
      "   ------------------------------ --------- 25.4/32.9 MB 412.0 kB/s eta 0:00:19\n",
      "   ------------------------------ --------- 25.4/32.9 MB 412.0 kB/s eta 0:00:19\n",
      "   ------------------------------- -------- 25.7/32.9 MB 410.9 kB/s eta 0:00:18\n",
      "   ------------------------------- -------- 25.7/32.9 MB 410.9 kB/s eta 0:00:18\n",
      "   ------------------------------- -------- 26.0/32.9 MB 405.5 kB/s eta 0:00:18\n",
      "   ------------------------------- -------- 26.0/32.9 MB 405.5 kB/s eta 0:00:18\n",
      "   ------------------------------- -------- 26.0/32.9 MB 405.5 kB/s eta 0:00:18\n",
      "   ------------------------------- -------- 26.2/32.9 MB 407.7 kB/s eta 0:00:17\n",
      "   ------------------------------- -------- 26.2/32.9 MB 407.7 kB/s eta 0:00:17\n",
      "   ------------------------------- -------- 26.2/32.9 MB 407.7 kB/s eta 0:00:17\n",
      "   -------------------------------- ------- 26.5/32.9 MB 407.7 kB/s eta 0:00:16\n",
      "   -------------------------------- ------- 26.5/32.9 MB 407.7 kB/s eta 0:00:16\n",
      "   -------------------------------- ------- 26.7/32.9 MB 414.0 kB/s eta 0:00:15\n",
      "   -------------------------------- ------- 26.7/32.9 MB 414.0 kB/s eta 0:00:15\n",
      "   -------------------------------- ------- 26.7/32.9 MB 414.0 kB/s eta 0:00:15\n",
      "   -------------------------------- ------- 26.7/32.9 MB 414.0 kB/s eta 0:00:15\n",
      "   -------------------------------- ------- 27.0/32.9 MB 413.9 kB/s eta 0:00:15\n",
      "   --------------------------------- ------ 27.3/32.9 MB 417.7 kB/s eta 0:00:14\n",
      "   --------------------------------- ------ 27.3/32.9 MB 417.7 kB/s eta 0:00:14\n",
      "   --------------------------------- ------ 27.5/32.9 MB 421.8 kB/s eta 0:00:13\n",
      "   --------------------------------- ------ 27.5/32.9 MB 421.8 kB/s eta 0:00:13\n",
      "   --------------------------------- ------ 27.8/32.9 MB 425.9 kB/s eta 0:00:12\n",
      "   ---------------------------------- ----- 28.0/32.9 MB 430.2 kB/s eta 0:00:12\n",
      "   ---------------------------------- ----- 28.0/32.9 MB 430.2 kB/s eta 0:00:12\n",
      "   ---------------------------------- ----- 28.3/32.9 MB 438.9 kB/s eta 0:00:11\n",
      "   ---------------------------------- ----- 28.6/32.9 MB 443.4 kB/s eta 0:00:10\n",
      "   ----------------------------------- ---- 28.8/32.9 MB 447.3 kB/s eta 0:00:09\n",
      "   ----------------------------------- ---- 28.8/32.9 MB 447.3 kB/s eta 0:00:09\n",
      "   ----------------------------------- ---- 28.8/32.9 MB 447.3 kB/s eta 0:00:09\n",
      "   ----------------------------------- ---- 28.8/32.9 MB 447.3 kB/s eta 0:00:09\n",
      "   ----------------------------------- ---- 29.1/32.9 MB 445.6 kB/s eta 0:00:09\n",
      "   ----------------------------------- ---- 29.4/32.9 MB 449.4 kB/s eta 0:00:08\n",
      "   ----------------------------------- ---- 29.4/32.9 MB 449.4 kB/s eta 0:00:08\n",
      "   ------------------------------------ --- 29.6/32.9 MB 453.0 kB/s eta 0:00:08\n",
      "   ------------------------------------ --- 29.9/32.9 MB 456.8 kB/s eta 0:00:07\n",
      "   ------------------------------------ --- 30.1/32.9 MB 460.4 kB/s eta 0:00:06\n",
      "   ------------------------------------ --- 30.1/32.9 MB 460.4 kB/s eta 0:00:06\n",
      "   ------------------------------------- -- 30.4/32.9 MB 465.3 kB/s eta 0:00:06\n",
      "   ------------------------------------- -- 30.7/32.9 MB 473.5 kB/s eta 0:00:05\n",
      "   ------------------------------------- -- 30.9/32.9 MB 477.6 kB/s eta 0:00:05\n",
      "   ------------------------------------- -- 30.9/32.9 MB 477.6 kB/s eta 0:00:05\n",
      "   ------------------------------------- -- 31.2/32.9 MB 481.1 kB/s eta 0:00:04\n",
      "   -------------------------------------- - 31.5/32.9 MB 484.6 kB/s eta 0:00:03\n",
      "   -------------------------------------- - 31.5/32.9 MB 484.6 kB/s eta 0:00:03\n",
      "   -------------------------------------- - 31.7/32.9 MB 497.7 kB/s eta 0:00:03\n",
      "   -------------------------------------- - 32.0/32.9 MB 501.1 kB/s eta 0:00:02\n",
      "   -------------------------------------- - 32.0/32.9 MB 501.1 kB/s eta 0:00:02\n",
      "   -------------------------------------- - 32.0/32.9 MB 501.1 kB/s eta 0:00:02\n",
      "   ---------------------------------------  32.2/32.9 MB 501.7 kB/s eta 0:00:02\n",
      "   ---------------------------------------  32.5/32.9 MB 505.7 kB/s eta 0:00:01\n",
      "   ---------------------------------------  32.5/32.9 MB 505.7 kB/s eta 0:00:01\n",
      "   ---------------------------------------  32.8/32.9 MB 507.3 kB/s eta 0:00:01\n",
      "   ---------------------------------------- 32.9/32.9 MB 507.8 kB/s eta 0:00:00\n",
      "Downloading pydub-0.25.1-py2.py3-none-any.whl (32 kB)\n",
      "Installing collected packages: pydub, SpeechRecognition\n",
      "Successfully installed SpeechRecognition-3.14.0 pydub-0.25.1\n",
      "Note: you may need to restart the kernel to use updated packages.\n"
     ]
    }
   ],
   "source": [
    "pip install SpeechRecognition pydub"
   ]
  },
  {
   "cell_type": "code",
   "execution_count": 29,
   "id": "70fe2703-811c-4acd-b043-97ec8dca5dda",
   "metadata": {},
   "outputs": [
    {
     "name": "stdin",
     "output_type": "stream",
     "text": [
      "enter the first side of triangle 3\n",
      "enter the value of second side of triangle 4\n"
     ]
    },
    {
     "name": "stdout",
     "output_type": "stream",
     "text": [
      "the third side of triangle is 2.6457513110645907\n"
     ]
    },
    {
     "ename": "ValueError",
     "evalue": "x and y must be the same size",
     "output_type": "error",
     "traceback": [
      "\u001b[1;31m---------------------------------------------------------------------------\u001b[0m",
      "\u001b[1;31mValueError\u001b[0m                                Traceback (most recent call last)",
      "Cell \u001b[1;32mIn[29], line 13\u001b[0m\n\u001b[0;32m     11\u001b[0m ypoints\u001b[38;5;241m=\u001b[39mnp\u001b[38;5;241m.\u001b[39marray([len2,\u001b[38;5;241m5\u001b[39m,\u001b[38;5;241m6\u001b[39m,\u001b[38;5;241m-\u001b[39m\u001b[38;5;241m8\u001b[39m,\u001b[38;5;241m-\u001b[39m\u001b[38;5;241m9\u001b[39m,\u001b[38;5;241m-\u001b[39m\u001b[38;5;241m11\u001b[39m,\u001b[38;5;241m13\u001b[39m,\u001b[38;5;241m0\u001b[39m,\u001b[38;5;241m4\u001b[39m,\u001b[38;5;241m5\u001b[39m,\u001b[38;5;241m-\u001b[39m\u001b[38;5;241m2\u001b[39m,\u001b[38;5;241m3.4\u001b[39m])\n\u001b[0;32m     12\u001b[0m plt\u001b[38;5;241m.\u001b[39mplot(xpoints,\u001b[38;5;124m\"\u001b[39m\u001b[38;5;124mk\u001b[39m\u001b[38;5;124m\"\u001b[39m,ypoints,\u001b[38;5;124m\"\u001b[39m\u001b[38;5;124mg\u001b[39m\u001b[38;5;124m\"\u001b[39m,marker\u001b[38;5;241m=\u001b[39m\u001b[38;5;124m\"\u001b[39m\u001b[38;5;124mD\u001b[39m\u001b[38;5;124m\"\u001b[39m,ms\u001b[38;5;241m=\u001b[39m\u001b[38;5;124m\"\u001b[39m\u001b[38;5;124m12\u001b[39m\u001b[38;5;124m\"\u001b[39m)\n\u001b[1;32m---> 13\u001b[0m plt\u001b[38;5;241m.\u001b[39mscatter(xpoints,ypoints)\n\u001b[0;32m     14\u001b[0m plt\u001b[38;5;241m.\u001b[39mshow()\n",
      "File \u001b[1;32m~\\anaconda3\\Lib\\site-packages\\matplotlib\\pyplot.py:3903\u001b[0m, in \u001b[0;36mscatter\u001b[1;34m(x, y, s, c, marker, cmap, norm, vmin, vmax, alpha, linewidths, edgecolors, plotnonfinite, data, **kwargs)\u001b[0m\n\u001b[0;32m   3884\u001b[0m \u001b[38;5;129m@_copy_docstring_and_deprecators\u001b[39m(Axes\u001b[38;5;241m.\u001b[39mscatter)\n\u001b[0;32m   3885\u001b[0m \u001b[38;5;28;01mdef\u001b[39;00m \u001b[38;5;21mscatter\u001b[39m(\n\u001b[0;32m   3886\u001b[0m     x: \u001b[38;5;28mfloat\u001b[39m \u001b[38;5;241m|\u001b[39m ArrayLike,\n\u001b[1;32m   (...)\u001b[0m\n\u001b[0;32m   3901\u001b[0m     \u001b[38;5;241m*\u001b[39m\u001b[38;5;241m*\u001b[39mkwargs,\n\u001b[0;32m   3902\u001b[0m ) \u001b[38;5;241m-\u001b[39m\u001b[38;5;241m>\u001b[39m PathCollection:\n\u001b[1;32m-> 3903\u001b[0m     __ret \u001b[38;5;241m=\u001b[39m gca()\u001b[38;5;241m.\u001b[39mscatter(\n\u001b[0;32m   3904\u001b[0m         x,\n\u001b[0;32m   3905\u001b[0m         y,\n\u001b[0;32m   3906\u001b[0m         s\u001b[38;5;241m=\u001b[39ms,\n\u001b[0;32m   3907\u001b[0m         c\u001b[38;5;241m=\u001b[39mc,\n\u001b[0;32m   3908\u001b[0m         marker\u001b[38;5;241m=\u001b[39mmarker,\n\u001b[0;32m   3909\u001b[0m         cmap\u001b[38;5;241m=\u001b[39mcmap,\n\u001b[0;32m   3910\u001b[0m         norm\u001b[38;5;241m=\u001b[39mnorm,\n\u001b[0;32m   3911\u001b[0m         vmin\u001b[38;5;241m=\u001b[39mvmin,\n\u001b[0;32m   3912\u001b[0m         vmax\u001b[38;5;241m=\u001b[39mvmax,\n\u001b[0;32m   3913\u001b[0m         alpha\u001b[38;5;241m=\u001b[39malpha,\n\u001b[0;32m   3914\u001b[0m         linewidths\u001b[38;5;241m=\u001b[39mlinewidths,\n\u001b[0;32m   3915\u001b[0m         edgecolors\u001b[38;5;241m=\u001b[39medgecolors,\n\u001b[0;32m   3916\u001b[0m         plotnonfinite\u001b[38;5;241m=\u001b[39mplotnonfinite,\n\u001b[0;32m   3917\u001b[0m         \u001b[38;5;241m*\u001b[39m\u001b[38;5;241m*\u001b[39m({\u001b[38;5;124m\"\u001b[39m\u001b[38;5;124mdata\u001b[39m\u001b[38;5;124m\"\u001b[39m: data} \u001b[38;5;28;01mif\u001b[39;00m data \u001b[38;5;129;01mis\u001b[39;00m \u001b[38;5;129;01mnot\u001b[39;00m \u001b[38;5;28;01mNone\u001b[39;00m \u001b[38;5;28;01melse\u001b[39;00m {}),\n\u001b[0;32m   3918\u001b[0m         \u001b[38;5;241m*\u001b[39m\u001b[38;5;241m*\u001b[39mkwargs,\n\u001b[0;32m   3919\u001b[0m     )\n\u001b[0;32m   3920\u001b[0m     sci(__ret)\n\u001b[0;32m   3921\u001b[0m     \u001b[38;5;28;01mreturn\u001b[39;00m __ret\n",
      "File \u001b[1;32m~\\anaconda3\\Lib\\site-packages\\matplotlib\\__init__.py:1473\u001b[0m, in \u001b[0;36m_preprocess_data.<locals>.inner\u001b[1;34m(ax, data, *args, **kwargs)\u001b[0m\n\u001b[0;32m   1470\u001b[0m \u001b[38;5;129m@functools\u001b[39m\u001b[38;5;241m.\u001b[39mwraps(func)\n\u001b[0;32m   1471\u001b[0m \u001b[38;5;28;01mdef\u001b[39;00m \u001b[38;5;21minner\u001b[39m(ax, \u001b[38;5;241m*\u001b[39margs, data\u001b[38;5;241m=\u001b[39m\u001b[38;5;28;01mNone\u001b[39;00m, \u001b[38;5;241m*\u001b[39m\u001b[38;5;241m*\u001b[39mkwargs):\n\u001b[0;32m   1472\u001b[0m     \u001b[38;5;28;01mif\u001b[39;00m data \u001b[38;5;129;01mis\u001b[39;00m \u001b[38;5;28;01mNone\u001b[39;00m:\n\u001b[1;32m-> 1473\u001b[0m         \u001b[38;5;28;01mreturn\u001b[39;00m func(\n\u001b[0;32m   1474\u001b[0m             ax,\n\u001b[0;32m   1475\u001b[0m             \u001b[38;5;241m*\u001b[39m\u001b[38;5;28mmap\u001b[39m(sanitize_sequence, args),\n\u001b[0;32m   1476\u001b[0m             \u001b[38;5;241m*\u001b[39m\u001b[38;5;241m*\u001b[39m{k: sanitize_sequence(v) \u001b[38;5;28;01mfor\u001b[39;00m k, v \u001b[38;5;129;01min\u001b[39;00m kwargs\u001b[38;5;241m.\u001b[39mitems()})\n\u001b[0;32m   1478\u001b[0m     bound \u001b[38;5;241m=\u001b[39m new_sig\u001b[38;5;241m.\u001b[39mbind(ax, \u001b[38;5;241m*\u001b[39margs, \u001b[38;5;241m*\u001b[39m\u001b[38;5;241m*\u001b[39mkwargs)\n\u001b[0;32m   1479\u001b[0m     auto_label \u001b[38;5;241m=\u001b[39m (bound\u001b[38;5;241m.\u001b[39marguments\u001b[38;5;241m.\u001b[39mget(label_namer)\n\u001b[0;32m   1480\u001b[0m                   \u001b[38;5;129;01mor\u001b[39;00m bound\u001b[38;5;241m.\u001b[39mkwargs\u001b[38;5;241m.\u001b[39mget(label_namer))\n",
      "File \u001b[1;32m~\\anaconda3\\Lib\\site-packages\\matplotlib\\axes\\_axes.py:4787\u001b[0m, in \u001b[0;36mAxes.scatter\u001b[1;34m(self, x, y, s, c, marker, cmap, norm, vmin, vmax, alpha, linewidths, edgecolors, plotnonfinite, **kwargs)\u001b[0m\n\u001b[0;32m   4785\u001b[0m y \u001b[38;5;241m=\u001b[39m np\u001b[38;5;241m.\u001b[39mma\u001b[38;5;241m.\u001b[39mravel(y)\n\u001b[0;32m   4786\u001b[0m \u001b[38;5;28;01mif\u001b[39;00m x\u001b[38;5;241m.\u001b[39msize \u001b[38;5;241m!=\u001b[39m y\u001b[38;5;241m.\u001b[39msize:\n\u001b[1;32m-> 4787\u001b[0m     \u001b[38;5;28;01mraise\u001b[39;00m \u001b[38;5;167;01mValueError\u001b[39;00m(\u001b[38;5;124m\"\u001b[39m\u001b[38;5;124mx and y must be the same size\u001b[39m\u001b[38;5;124m\"\u001b[39m)\n\u001b[0;32m   4789\u001b[0m \u001b[38;5;28;01mif\u001b[39;00m s \u001b[38;5;129;01mis\u001b[39;00m \u001b[38;5;28;01mNone\u001b[39;00m:\n\u001b[0;32m   4790\u001b[0m     s \u001b[38;5;241m=\u001b[39m (\u001b[38;5;241m20\u001b[39m \u001b[38;5;28;01mif\u001b[39;00m mpl\u001b[38;5;241m.\u001b[39mrcParams[\u001b[38;5;124m'\u001b[39m\u001b[38;5;124m_internal.classic_mode\u001b[39m\u001b[38;5;124m'\u001b[39m] \u001b[38;5;28;01melse\u001b[39;00m\n\u001b[0;32m   4791\u001b[0m          mpl\u001b[38;5;241m.\u001b[39mrcParams[\u001b[38;5;124m'\u001b[39m\u001b[38;5;124mlines.markersize\u001b[39m\u001b[38;5;124m'\u001b[39m] \u001b[38;5;241m*\u001b[39m\u001b[38;5;241m*\u001b[39m \u001b[38;5;241m2.0\u001b[39m)\n",
      "\u001b[1;31mValueError\u001b[0m: x and y must be the same size"
     ]
    },
    {
     "data": {
      "image/png": "[encoded data removed]",
      "text/plain": [
       "<Figure size 640x480 with 1 Axes>"
      ]
     },
     "metadata": {},
     "output_type": "display_data"
    }
   ],
   "source": [
    "import matplotlib.pyplot as plt\n",
    "import numpy as np\n",
    "import math\n",
    "len1=float(input(\"enter the first side of triangle\"))\n",
    "len2=float(input(\"enter the value of second side of triangle\"))\n",
    "#Find the third side of triangle\n",
    "result=math.sqrt((len1)+(len2))\n",
    "print(\"the third side of triangle is\", result)\n",
    "#Now i try to plot some data:\n",
    "xpoints=np.array([len1,2,-4,-5,-6,2,4])\n",
    "ypoints=np.array([len2,5,6,-8,-9,-11,13,0,4,5,-2,3.4])\n",
    "plt.plot(xpoints,\"k\",ypoints,\"g\",marker=\"D\",ms=\"12\")\n",
    "plt.scatter(xpoints,ypoints)\n",
    "plt.show()\n"
   ]
  },
  {
   "cell_type": "code",
   "execution_count": null,
   "id": "2993adea-55f9-4bbc-a1de-a4d1192dbea1",
   "metadata": {},
   "outputs": [],
   "source": []
  }
 ],
 "metadata": {
  "kernelspec": {
   "display_name": "Python [conda env:base] *",
   "language": "python",
   "name": "conda-base-py"
  },
  "language_info": {
   "codemirror_mode": {
    "name": "ipython",
    "version": 3
   },
   "file_extension": ".py",
   "mimetype": "text/x-python",
   "name": "python",
   "nbconvert_exporter": "python",
   "pygments_lexer": "ipython3",
   "version": "3.12.7"
  }
 },
 "nbformat": 4,
 "nbformat_minor": 5
}
